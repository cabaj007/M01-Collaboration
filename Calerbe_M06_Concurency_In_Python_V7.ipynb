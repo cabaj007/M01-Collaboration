{
 "cells": [
  {
   "cell_type": "code",
   "execution_count": null,
   "id": "ecedcb5d",
   "metadata": {},
   "outputs": [],
   "source": [
    "import datetime\n",
    "import random\n",
    "import time\n",
    "import multiprocessing\n",
    "\n",
    "#13.1 Write the current date as a string to the text file today.txt\n",
    "current_date = datetime.datetime.now().strftime(\"%Y-%m-%d\")\n",
    "with open('today.txt', 'w') as file:\n",
    "    file.write(current_date)\n",
    "\n",
    "# 13.2 Read the text file today.txt into the string today_string\n",
    "with open('today.txt', 'r') as file:\n",
    "    today_string = file.read()\n",
    "\n",
    "#13.3 Parse the date from today_string\n",
    "parsed_date = datetime.datetime.strptime(today_string, '%Y-%m-%d')\n",
    "\n",
    "#15.1 Function for multiprocessing to print the current time and exit\n",
    "def print_current_time():\n",
    "    time.sleep(random.random())  # Wait a random number of seconds between 0 and 1\n",
    "    current_time = datetime.datetime.now().time()\n",
    "    print(f\"Current time: {current_time}\")\n",
    "\n",
    "# Create three separate processes using multiprocessing\n",
    "processes = []\n",
    "for _ in range(3):\n",
    "    process = multiprocessing.Process(target=print_current_time)\n",
    "    processes.append(process)\n",
    "    process.start()\n"
   ]
  }
 ],
 "metadata": {
  "kernelspec": {
   "display_name": "Python 3 (ipykernel)",
   "language": "python",
   "name": "python3"
  },
  "language_info": {
   "codemirror_mode": {
    "name": "ipython",
    "version": 3
   },
   "file_extension": ".py",
   "mimetype": "text/x-python",
   "name": "python",
   "nbconvert_exporter": "python",
   "pygments_lexer": "ipython3",
   "version": "3.11.5"
  }
 },
 "nbformat": 4,
 "nbformat_minor": 5
}
