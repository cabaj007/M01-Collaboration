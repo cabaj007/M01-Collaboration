{
 "cells": [
  {
   "cell_type": "code",
   "execution_count": 1,
   "id": "5151186d",
   "metadata": {},
   "outputs": [
    {
     "name": "stdout",
     "output_type": "stream",
     "text": [
      "'too low'\n",
      "Secret number : 5  . Guess number :  1\n",
      "--------6.1--------\n",
      "3\n",
      "2\n",
      "1\n",
      "0\n",
      "--------6.2--------\n",
      "'too low'\n",
      "'too low'\n",
      "'too low'\n",
      "'too low'\n",
      "'too low'\n",
      "'too low'\n",
      "'found it'\n",
      "'oops'\n",
      "--------6.3--------\n",
      "'too low'\n",
      "'too low'\n",
      "'too low'\n",
      "'too low'\n",
      "'too low'\n",
      "found it\n"
     ]
    }
   ],
   "source": [
    "#4.1\n",
    "# i use random() to make it fun\n",
    "import random\n",
    "secret = random.randint(1,10) \n",
    "guess= random.randint(1,10)\n",
    "if guess < secret :\n",
    "    print(\"'too low'\")\n",
    "elif guess > secret :\n",
    "    print(\"'too high'\")\n",
    "else :\n",
    "    print(\"'just right'\")\n",
    "print(\"Secret number :\", secret, \" . Guess number : \", guess)    \n",
    "    \n",
    "#6.1\n",
    "print(\"--------6.1--------\")\n",
    "list= [3, 2, 1, 0]\n",
    "for l in list :\n",
    "    print(l)\n",
    " \n",
    "#6.2\n",
    "print(\"--------6.2--------\")\n",
    "guess_me = int(7)\n",
    "number = int(1)\n",
    "while number <= guess_me :\n",
    "    if number < guess_me :\n",
    "        print(\"'too low'\")\n",
    "    else :\n",
    "        print(\"'found it'\")\n",
    "        break\n",
    "    number +=1\n",
    "print(\"'oops'\")\n",
    "    \n",
    "#6.3\n",
    "print(\"--------6.3--------\")   \n",
    "guesss_me= int(5)\n",
    "for numbber in range(10) :\n",
    "    if numbber < guesss_me :\n",
    "        print(\"'too low'\")\n",
    "    elif numbber == guesss_me :\n",
    "        print(\"found it\")\n",
    "        break\n",
    "    else :\n",
    "        print(\"'oops'\")\n",
    "        break"
   ]
  },
  {
   "cell_type": "code",
   "execution_count": null,
   "id": "cc6a3b00",
   "metadata": {},
   "outputs": [],
   "source": []
  }
 ],
 "metadata": {
  "kernelspec": {
   "display_name": "Python 3 (ipykernel)",
   "language": "python",
   "name": "python3"
  },
  "language_info": {
   "codemirror_mode": {
    "name": "ipython",
    "version": 3
   },
   "file_extension": ".py",
   "mimetype": "text/x-python",
   "name": "python",
   "nbconvert_exporter": "python",
   "pygments_lexer": "ipython3",
   "version": "3.11.5"
  }
 },
 "nbformat": 4,
 "nbformat_minor": 5
}
