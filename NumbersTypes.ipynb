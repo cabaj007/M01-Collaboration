{
 "cells": [
  {
   "cell_type": "code",
   "execution_count": 8,
   "id": "cab24317",
   "metadata": {},
   "outputs": [
    {
     "name": "stdout",
     "output_type": "stream",
     "text": [
      "3600\n",
      "86400\n",
      "24.0\n",
      "24\n"
     ]
    }
   ],
   "source": [
    "#Things to Do from 3.1 to 3.6\n",
    "# I added print() function for fun\n",
    "1*60*60\n",
    "\n",
    "#3.2\n",
    "seconds_per_hour=3600\n",
    "print(seconds_per_hour)\n",
    "#3.3\n",
    "24*seconds_per_hour\n",
    "#3.4\n",
    "seconds_per_day=24*seconds_per_hour\n",
    "print(seconds_per_day)\n",
    "#3.5\n",
    "seconds_per_day/seconds_per_hour\n",
    "r=seconds_per_day/seconds_per_hour\n",
    "print(r)\n",
    "p=seconds_per_day//seconds_per_hour\n",
    "print(p)\n",
    "\n",
    "\n",
    "\n",
    "\n"
   ]
  }
 ],
 "metadata": {
  "kernelspec": {
   "display_name": "Python 3 (ipykernel)",
   "language": "python",
   "name": "python3"
  },
  "language_info": {
   "codemirror_mode": {
    "name": "ipython",
    "version": 3
   },
   "file_extension": ".py",
   "mimetype": "text/x-python",
   "name": "python",
   "nbconvert_exporter": "python",
   "pygments_lexer": "ipython3",
   "version": "3.11.5"
  }
 },
 "nbformat": 4,
 "nbformat_minor": 5
}
